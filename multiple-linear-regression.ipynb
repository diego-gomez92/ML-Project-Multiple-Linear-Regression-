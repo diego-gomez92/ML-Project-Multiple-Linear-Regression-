{
 "cells": [
  {
   "cell_type": "markdown",
   "metadata": {},
   "source": [
    "<h2 align=\"center\">Multiple Linear Regression</h2>"
   ]
  },
  {
   "cell_type": "markdown",
   "metadata": {},
   "source": [
    "Linear Regression is a useful tool for predicting a quantitative response."
   ]
  },
  {
   "cell_type": "markdown",
   "metadata": {},
   "source": [
    "We have an input vector $X^T = (X_1, X_2,...,X_p)$, and want to predict a real-valued output $Y$. The linear regression model has the form"
   ]
  },
  {
   "cell_type": "markdown",
   "metadata": {},
   "source": [
    "<h4 align=\"center\"> $f(x) = \\beta_0 + \\sum_{j=1}^p X_j \\beta_j$. </h4>"
   ]
  },
  {
   "cell_type": "markdown",
   "metadata": {},
   "source": [
    "The linear model either assumes that the regression function $E(Y|X)$ is linear, or that the linear model is a reasonable approximation.Here the $\\beta_j$'s are unknown parameters or coefficients, and the variables $X_j$ can come from different sources. No matter the source of $X_j$, the model is linear in the parameters."
   ]
  },
  {
   "cell_type": "markdown",
   "metadata": {},
   "source": [
    "**Simple Linear Regression**: <h5 align=center>$$Y = \\beta_0 + \\beta_1 X + \\epsilon$$</h5>"
   ]
  },
  {
   "cell_type": "markdown",
   "metadata": {},
   "source": [
    "**Multiple Linear Regression**: <h5 align=center>$$Y = \\beta_0 + \\beta_1 X_1 + \\beta_2 X_2 +...+ \\beta_p X_p + \\epsilon$$ </h5>\n",
    "<h5 align=center> $$sales = \\beta_0 + \\beta_1 \\times TV + \\beta_2 \\times radio + \\beta_3 \\times newspaper + \\epsilon$$ </h5>"
   ]
  },
  {
   "cell_type": "markdown",
   "metadata": {},
   "source": [
    "### Task 1: Importing Libraries"
   ]
  },
  {
   "cell_type": "code",
   "execution_count": 1,
   "metadata": {},
   "outputs": [],
   "source": [
    "import pandas as pd\n",
    "import numpy as np\n",
    "import seaborn as sns\n",
    "from scipy.stats import skew\n",
    "%matplotlib inline"
   ]
  },
  {
   "cell_type": "code",
   "execution_count": 2,
   "metadata": {},
   "outputs": [],
   "source": [
    "import matplotlib.pyplot as plt\n",
    "plt.style.use(\"ggplot\")\n",
    "plt.rcParams['figure.figsize'] = (12, 8)"
   ]
  },
  {
   "cell_type": "markdown",
   "metadata": {},
   "source": [
    " "
   ]
  },
  {
   "cell_type": "markdown",
   "metadata": {},
   "source": [
    "### Task 2: Load the Data"
   ]
  },
  {
   "cell_type": "markdown",
   "metadata": {},
   "source": [
    "The adverstiting dataset captures sales revenue generated with respect to advertisement spends across multiple channles like radio, tv and newspaper."
   ]
  },
  {
   "cell_type": "code",
   "execution_count": 4,
   "metadata": {},
   "outputs": [],
   "source": [
    "#from Kaggle\n",
    "advertise = pd.read_csv('Advertising.csv')"
   ]
  },
  {
   "cell_type": "code",
   "execution_count": 5,
   "metadata": {},
   "outputs": [
    {
     "data": {
      "text/html": [
       "<div>\n",
       "<style scoped>\n",
       "    .dataframe tbody tr th:only-of-type {\n",
       "        vertical-align: middle;\n",
       "    }\n",
       "\n",
       "    .dataframe tbody tr th {\n",
       "        vertical-align: top;\n",
       "    }\n",
       "\n",
       "    .dataframe thead th {\n",
       "        text-align: right;\n",
       "    }\n",
       "</style>\n",
       "<table border=\"1\" class=\"dataframe\">\n",
       "  <thead>\n",
       "    <tr style=\"text-align: right;\">\n",
       "      <th></th>\n",
       "      <th>Unnamed: 0</th>\n",
       "      <th>TV</th>\n",
       "      <th>radio</th>\n",
       "      <th>newspaper</th>\n",
       "      <th>sales</th>\n",
       "    </tr>\n",
       "  </thead>\n",
       "  <tbody>\n",
       "    <tr>\n",
       "      <th>0</th>\n",
       "      <td>1</td>\n",
       "      <td>230.1</td>\n",
       "      <td>37.8</td>\n",
       "      <td>69.2</td>\n",
       "      <td>22.1</td>\n",
       "    </tr>\n",
       "    <tr>\n",
       "      <th>1</th>\n",
       "      <td>2</td>\n",
       "      <td>44.5</td>\n",
       "      <td>39.3</td>\n",
       "      <td>45.1</td>\n",
       "      <td>10.4</td>\n",
       "    </tr>\n",
       "    <tr>\n",
       "      <th>2</th>\n",
       "      <td>3</td>\n",
       "      <td>17.2</td>\n",
       "      <td>45.9</td>\n",
       "      <td>69.3</td>\n",
       "      <td>9.3</td>\n",
       "    </tr>\n",
       "    <tr>\n",
       "      <th>3</th>\n",
       "      <td>4</td>\n",
       "      <td>151.5</td>\n",
       "      <td>41.3</td>\n",
       "      <td>58.5</td>\n",
       "      <td>18.5</td>\n",
       "    </tr>\n",
       "    <tr>\n",
       "      <th>4</th>\n",
       "      <td>5</td>\n",
       "      <td>180.8</td>\n",
       "      <td>10.8</td>\n",
       "      <td>58.4</td>\n",
       "      <td>12.9</td>\n",
       "    </tr>\n",
       "  </tbody>\n",
       "</table>\n",
       "</div>"
      ],
      "text/plain": [
       "   Unnamed: 0     TV  radio  newspaper  sales\n",
       "0           1  230.1   37.8       69.2   22.1\n",
       "1           2   44.5   39.3       45.1   10.4\n",
       "2           3   17.2   45.9       69.3    9.3\n",
       "3           4  151.5   41.3       58.5   18.5\n",
       "4           5  180.8   10.8       58.4   12.9"
      ]
     },
     "execution_count": 5,
     "metadata": {},
     "output_type": "execute_result"
    }
   ],
   "source": [
    "#sales in thousands of units\n",
    "#advertising in thousands of dollars \n",
    "advertise.head()"
   ]
  },
  {
   "cell_type": "code",
   "execution_count": 6,
   "metadata": {},
   "outputs": [
    {
     "name": "stdout",
     "output_type": "stream",
     "text": [
      "<class 'pandas.core.frame.DataFrame'>\n",
      "RangeIndex: 200 entries, 0 to 199\n",
      "Data columns (total 5 columns):\n",
      "Unnamed: 0    200 non-null int64\n",
      "TV            200 non-null float64\n",
      "radio         200 non-null float64\n",
      "newspaper     200 non-null float64\n",
      "sales         200 non-null float64\n",
      "dtypes: float64(4), int64(1)\n",
      "memory usage: 7.9 KB\n"
     ]
    }
   ],
   "source": [
    "#200 rows and 4 columns \n",
    "advertise.info()"
   ]
  },
  {
   "cell_type": "markdown",
   "metadata": {},
   "source": [
    "### Task 3: Relationship between Features and Response"
   ]
  },
  {
   "cell_type": "code",
   "execution_count": 7,
   "metadata": {},
   "outputs": [
    {
     "data": {
      "text/plain": [
       "<seaborn.axisgrid.PairGrid at 0x1aa28ee35f8>"
      ]
     },
     "execution_count": 7,
     "metadata": {},
     "output_type": "execute_result"
    },
    {
     "data": {
      "image/png": "[encoded data removed]",
      "text/plain": [
       "<Figure size 1058.4x504 with 3 Axes>"
      ]
     },
     "metadata": {},
     "output_type": "display_data"
    }
   ],
   "source": [
    "#three subplots using seaborn\n",
    "sns.pairplot(advertise, x_vars=['TV', 'radio', 'newspaper'], y_vars='sales', \n",
    "             height=7, aspect=0.7)"
   ]
  },
  {
   "cell_type": "markdown",
   "metadata": {},
   "source": [
    " "
   ]
  },
  {
   "cell_type": "markdown",
   "metadata": {},
   "source": [
    "### Task 4: Multiple Linear Regression - Estimating Coefficients"
   ]
  },
  {
   "cell_type": "code",
   "execution_count": 8,
   "metadata": {},
   "outputs": [
    {
     "name": "stdout",
     "output_type": "stream",
     "text": [
      "2.9388893694594085\n",
      "[ 0.04576465  0.18853002 -0.00103749]\n"
     ]
    }
   ],
   "source": [
    "from sklearn.linear_model import LinearRegression\n",
    "\n",
    "X = advertise[['TV', 'radio', 'newspaper']]\n",
    "y = advertise.sales\n",
    "\n",
    "#fit data\n",
    "#multiple linear regression will return the coefficients for each of the predictors\n",
    "linear_m1 = LinearRegression()\n",
    "linear_m1.fit(X,y)\n",
    "\n",
    "#intercept\n",
    "print(linear_m1.intercept_)\n",
    "#coeffcients for each predictor\n",
    "print(linear_m1.coef_)"
   ]
  },
  {
   "cell_type": "code",
   "execution_count": 9,
   "metadata": {},
   "outputs": [
    {
     "data": {
      "text/plain": [
       "[('TV', 0.045764645455397615),\n",
       " ('radio', 0.18853001691820456),\n",
       " ('newspaper', -0.0010374930424763272)]"
      ]
     },
     "execution_count": 9,
     "metadata": {},
     "output_type": "execute_result"
    }
   ],
   "source": [
    "#associate name of predictor with its respective coefficient\n",
    "list(zip(['TV', 'radio', 'newspaper'], linear_m1.coef_))"
   ]
  },
  {
   "cell_type": "markdown",
   "metadata": {},
   "source": [
    "Interpretation:\n",
    "For an additional $1,000 spend on radio advertising, there will be an approximate increase in sales of aorund 188 units. \n",
    "(A similar interpretation applies to the other predictors by taking their respective coeffeicients into consideration.)"
   ]
  },
  {
   "cell_type": "code",
   "execution_count": 10,
   "metadata": {},
   "outputs": [
    {
     "data": {
      "image/png": "[encoded data removed]",
      "text/plain": [
       "<Figure size 864x576 with 2 Axes>"
      ]
     },
     "metadata": {},
     "output_type": "display_data"
    }
   ],
   "source": [
    "#let's take a closer at our predictors via a correlation matrix \n",
    "sns.heatmap(advertise.corr(), annot=True);"
   ]
  },
  {
   "cell_type": "markdown",
   "metadata": {},
   "source": [
    "Interprettaion:\n",
    "We can see that there is positive correlation between newspaper and radio advertising. This suggests that markets that spend more on newspaper advertising also spend more on radio advertising.  "
   ]
  },
  {
   "cell_type": "markdown",
   "metadata": {},
   "source": [
    " "
   ]
  },
  {
   "cell_type": "markdown",
   "metadata": {},
   "source": [
    " "
   ]
  },
  {
   "cell_type": "markdown",
   "metadata": {},
   "source": [
    "### Task 5: Feature Selection\n",
    "\n",
    "Which predictors, if any, are associated with the response? Feature selection will help us answer this question. Using feature selection can help us fit a model that exclusively includes variables associated with the response. "
   ]
  },
  {
   "cell_type": "markdown",
   "metadata": {},
   "source": [
    " "
   ]
  },
  {
   "cell_type": "code",
   "execution_count": 12,
   "metadata": {},
   "outputs": [
    {
     "name": "stdout",
     "output_type": "stream",
     "text": [
      "R^2:  0.8971942610828956\n"
     ]
    }
   ],
   "source": [
    "from sklearn.metrics import r2_score\n",
    "\n",
    "#fit second model with newspaper excluded\n",
    "linear_m2 = LinearRegression().fit(X[['TV', 'radio']], y)\n",
    "\n",
    "linear_m2_pred = linear_m2.predict(X[['TV', 'radio']])\n",
    "\n",
    "print(\"R^2: \", r2_score(y, linear_m2_pred))"
   ]
  },
  {
   "cell_type": "code",
   "execution_count": 13,
   "metadata": {},
   "outputs": [
    {
     "name": "stdout",
     "output_type": "stream",
     "text": [
      "R^2:  0.8972106381789522\n"
     ]
    }
   ],
   "source": [
    "#fit third model with all predictors included\n",
    "linear_m3 = LinearRegression().fit(X[['TV', 'radio', 'newspaper']], y)\n",
    "\n",
    "linear_m3_pred = linear_m3.predict(X[['TV', 'radio', 'newspaper']])\n",
    "\n",
    "print(\"R^2: \", r2_score(y, linear_m3_pred))"
   ]
  },
  {
   "cell_type": "markdown",
   "metadata": {},
   "source": [
    "Interpretation:\n",
    "R^2 is a common metric for model fit and it signifies the fraction of the variance explained in the response variable (sales) by the predictors (the advertising variables).\n",
    "\n",
    "Here, both models achived a high R^2. But while the third model's (with all predictors included) R^2 is slightly higher than the second model (with newspaper excluded), the increase is small, and thus 'newspaper' can be dropped from the model as a predictor. In other words, the 'newspaper' predictor provides no real improvement to the model fit and its inclusion can lead to poor performance on testing samples, due to overfitting ."
   ]
  },
  {
   "cell_type": "markdown",
   "metadata": {},
   "source": [
    " "
   ]
  },
  {
   "cell_type": "markdown",
   "metadata": {},
   "source": [
    "### Task 6: Model Evaluation Using Train/Test Split and Metrics"
   ]
  },
  {
   "cell_type": "markdown",
   "metadata": {},
   "source": [
    " "
   ]
  },
  {
   "cell_type": "markdown",
   "metadata": {},
   "source": [
    "**Mean Absolute Error** (MAE) is the mean of the absolute value of the errors: <h5 align=center>$$\\frac{1}{n}\\sum_{i=1}^{n} \\left |y_i - \\hat{y_i} \\right |$$</h5>\n",
    "**Mean Squared Error** (MSE) is the mean of the squared errors: <h5 align=center>$$\\frac{1}{n}\\sum_{i=1}^{n} (y_i - \\hat{y_i})^2$$</h5>\n",
    "**Root Mean Squared Error** (RMSE) is the mean of the squared errors: <h5 align=center>$$\\sqrt{\\frac{1}{n}\\sum_{i=1}^{n} (y_i - \\hat{y_i})^2}$$</h5>"
   ]
  },
  {
   "cell_type": "markdown",
   "metadata": {},
   "source": [
    "RMSE calculates the difference between the actual value and the predicted value of the response variable. Then it takes the squareroot of the mean of the square of all the errors. RMSE severly penalizes larger errors. The lower the RMSE, the better the model.\n",
    "\n",
    "RMSE has an advantage over MSE in that it is interpretable in the y units (i.e., the response variable). Furthermore, RMSE can be interpreted as the standard deviation of the unexplained variance "
   ]
  },
  {
   "cell_type": "markdown",
   "metadata": {},
   "source": [
    " "
   ]
  },
  {
   "cell_type": "markdown",
   "metadata": {},
   "source": [
    "Let us use train/test split with RMSE to see whether newspaper should be included in the model:"
   ]
  },
  {
   "cell_type": "code",
   "execution_count": 14,
   "metadata": {},
   "outputs": [],
   "source": [
    "from sklearn.model_selection import train_test_split\n",
    "from sklearn.metrics import mean_squared_error\n",
    "\n",
    "X = advertise[['TV', 'radio', 'newspaper']]\n",
    "\n",
    "y = advertise.sales\n",
    "\n",
    "X_train, X_test, y_train, y_test = train_test_split(X, y, random_state=1)\n",
    "\n",
    "#fit fourth model using training data\n",
    "linear_m4 = LinearRegression().fit(X_train, y_train)"
   ]
  },
  {
   "cell_type": "code",
   "execution_count": 15,
   "metadata": {},
   "outputs": [
    {
     "name": "stdout",
     "output_type": "stream",
     "text": [
      "RMSE:  1.404651423032895\n",
      "R^2:  0.9156213613792232\n"
     ]
    }
   ],
   "source": [
    "#predict sales on testing data\n",
    "linear_m4_pred = linear_m4.predict(X_test)\n",
    "\n",
    "print(\"RMSE: \", np.sqrt(mean_squared_error(y_test, linear_m4_pred)))\n",
    "\n",
    "print(\"R^2: \", r2_score(y_test, linear_m4_pred))"
   ]
  },
  {
   "cell_type": "code",
   "execution_count": 16,
   "metadata": {
    "scrolled": true
   },
   "outputs": [
    {
     "name": "stdout",
     "output_type": "stream",
     "text": [
      "RMSE:  1.3879034699382886\n",
      "R^2:  0.9176214942248908\n"
     ]
    }
   ],
   "source": [
    "#model 5: excludes 'newspaper'\n",
    "X = advertise[['TV', 'radio']]\n",
    "\n",
    "y = advertise.sales\n",
    "\n",
    "X_train, X_test, y_train, y_test = train_test_split(X, y, random_state=1)\n",
    "\n",
    "#fit fifth  model using training data\n",
    "linear_m5 = LinearRegression().fit(X_train, y_train)\n",
    "\n",
    "#predict sales on testing data\n",
    "linear_m5_pred = linear_m5.predict(X_test)\n",
    "\n",
    "print(\"RMSE: \", np.sqrt(mean_squared_error(y_test, linear_m5_pred)))\n",
    "\n",
    "print(\"R^2: \", r2_score(y_test, linear_m5_pred))"
   ]
  },
  {
   "cell_type": "markdown",
   "metadata": {},
   "source": [
    "Interpretation:\n",
    "The R^2 value increased and the RMSE decreased in the 5th  model, where 'newspaper' is omitted from the model. This proves that removing 'newspaper' improves the model. "
   ]
  },
  {
   "cell_type": "code",
   "execution_count": 38,
   "metadata": {},
   "outputs": [],
   "source": [
    "#conda install -c districtdatalabs yellowbrick"
   ]
  },
  {
   "cell_type": "code",
   "execution_count": 21,
   "metadata": {},
   "outputs": [],
   "source": [
    "import yellowbrick"
   ]
  },
  {
   "cell_type": "code",
   "execution_count": 24,
   "metadata": {},
   "outputs": [
    {
     "data": {
      "image/png": "[encoded data removed]",
      "text/plain": [
       "<Figure size 576x396 with 1 Axes>"
      ]
     },
     "metadata": {},
     "output_type": "display_data"
    }
   ],
   "source": [
    "from yellowbrick.regressor import PredictionError, ResidualsPlot\n",
    "\n",
    "#fit model to our visualizer\n",
    "visualizer = PredictionError(linear_m5).fit(X_train, y_train)\n",
    "\n",
    "visualizer.score(X_test, y_test)\n",
    "\n",
    "#similar to plt.show()\n",
    "visualizer.poof();"
   ]
  },
  {
   "cell_type": "markdown",
   "metadata": {},
   "source": [
    "Interpretation:\n",
    "\n",
    "The identity line is the best case.\n",
    "The best fit is our line. \n",
    "\n",
    "Notice that altough R^2 is high, there is still some unexplained variability that our model is unable to capture. This may be due to our data not being linear or the presenence of a synnergy/interaction effect (which we will explore in Task 7)."
   ]
  },
  {
   "cell_type": "markdown",
   "metadata": {},
   "source": [
    "### Task 7: Interaction Effect (Synergy)"
   ]
  },
  {
   "cell_type": "markdown",
   "metadata": {
    "collapsed": true
   },
   "source": [
    "Thus far, our model assumes that the effect of increasing advertising spending in one medium (e.g., radio, TV) on sales is independent of the amount spend on the other medium. This may be incorrect.\n",
    "\n",
    "It may be the case that increasing spending on radio advertisement also increases the effectiveness of TV advertising or vise versa. Thus increasing spending in one medium would increase the effectiveness of the other. This is called the synergy or interaction effect.\n",
    "\n",
    "Why does it matter?\n",
    "It may be the case that spending 100,000 on both mediums equally (50,000 each) increases sales more than allocating the 100,000 on one medium exclusively. \n",
    "\n",
    "Here we will include an interaction predictor, which is simply the product of the other two predictors. "
   ]
  },
  {
   "cell_type": "code",
   "execution_count": 36,
   "metadata": {},
   "outputs": [
    {
     "name": "stdout",
     "output_type": "stream",
     "text": [
      "RMSE:  0.7011871137164325\n",
      "R^2:  0.9789736814681261\n"
     ]
    }
   ],
   "source": [
    "#add column for interaction effect\n",
    "advertise['interaction'] = advertise['TV'] * advertise['radio']\n",
    "\n",
    "#add interaction predictor to feature vector X\n",
    "X = advertise[['TV', 'radio', 'interaction']]\n",
    "\n",
    "y = advertise.sales\n",
    "\n",
    "X_train, X_test, y_train, y_test = train_test_split(X, y, random_state=1)\n",
    "\n",
    "#fit fifth  model using training data\n",
    "linear_m6 = LinearRegression().fit(X_train, y_train)\n",
    "\n",
    "#predict sales on testing data\n",
    "linear_m6_pred = linear_m6.predict(X_test)\n",
    "\n",
    "print(\"RMSE: \", np.sqrt(mean_squared_error(y_test, linear_m6_pred)))\n",
    "\n",
    "print(\"R^2: \", r2_score(y_test, linear_m6_pred))"
   ]
  },
  {
   "cell_type": "markdown",
   "metadata": {},
   "source": [
    "There is a considerable increase in R^2 and huge decrease in RMSE. Thus our model has significantly improved by including the interaction preictor."
   ]
  },
  {
   "cell_type": "code",
   "execution_count": 37,
   "metadata": {},
   "outputs": [
    {
     "data": {
      "image/png": "[encoded data removed]",
      "text/plain": [
       "<Figure size 576x396 with 1 Axes>"
      ]
     },
     "metadata": {},
     "output_type": "display_data"
    }
   ],
   "source": [
    "visualizer = PredictionError(linear_m6).fit(X_train, y_train)\n",
    "\n",
    "visualizer.score(X_test, y_test)\n",
    "\n",
    "#similar to plt.show()\n",
    "visualizer.poof();"
   ]
  },
  {
   "cell_type": "markdown",
   "metadata": {},
   "source": [
    "Our new model describes the data more accurately. In other words, the line of best fit, our line, is very close to the data points. This model explains over 97% of the variability in the data. \n",
    "\n",
    "Our interatction term also has a coeffcient. We can interpret this as the increase in the effectiveness of tv advertising for one unit increase in radio advertising, or vise versa."
   ]
  },
  {
   "cell_type": "markdown",
   "metadata": {},
   "source": [
    "Conclusion:\n",
    "The model with the interaction effect is more accurate at explaining the data than the model that only contains main effects.\n",
    "\n",
    "This is because the additive assumption did not apply with to the given data, hence the presence of the synnergy effect. "
   ]
  }
 ],
 "metadata": {
  "kernelspec": {
   "display_name": "Python 3",
   "language": "python",
   "name": "python3"
  },
  "language_info": {
   "codemirror_mode": {
    "name": "ipython",
    "version": 3
   },
   "file_extension": ".py",
   "mimetype": "text/x-python",
   "name": "python",
   "nbconvert_exporter": "python",
   "pygments_lexer": "ipython3",
   "version": "3.7.3"
  }
 },
 "nbformat": 4,
 "nbformat_minor": 2
}
